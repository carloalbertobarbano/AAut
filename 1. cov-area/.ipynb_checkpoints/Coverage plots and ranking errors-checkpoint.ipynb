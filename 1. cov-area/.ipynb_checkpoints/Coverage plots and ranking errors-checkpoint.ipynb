{
 "cells": [
  {
   "cell_type": "code",
   "execution_count": 1,
   "metadata": {},
   "outputs": [],
   "source": [
    "%matplotlib inline\n",
    "import sklearn\n",
    "from sklearn import datasets\n",
    "from sklearn.linear_model import LogisticRegression\n",
    "from sklearn.svm import SVC\n",
    "import matplotlib.pyplot as plt\n",
    "import seaborn as sns\n",
    "import numpy as np\n",
    "\n",
    "sns.set()"
   ]
  },
  {
   "cell_type": "markdown",
   "metadata": {},
   "source": [
    "# Coverage Plot of a Ranking Classifier\n",
    "\n",
    "## First part: load the data and fit a scoring classifier\n",
    "\n",
    "- load the breast cancer dataset using the sklearn.datasets module;\n",
    "- import the learning algorithm of your choice (e.g., `linear_model.LogisticRegression`);\n",
    "- use the fit method to learn a new classifier specifying that you want the classifier to be setup to output probability estimates (use parameter 'probability=True' when instantiating the class);\n",
    "- use the learnt classifier to obtain the scores for the objects in the training set (use the `predict_proba` method);\n"
   ]
  },
  {
   "cell_type": "code",
   "execution_count": 2,
   "metadata": {},
   "outputs": [
    {
     "name": "stdout",
     "output_type": "stream",
     "text": [
      "Num of samples: 569\n",
      "Labels: ['malignant' 'benign']\n",
      "Samples: [[1.799e+01 1.038e+01 1.228e+02 1.001e+03 1.184e-01 2.776e-01 3.001e-01\n",
      "  1.471e-01 2.419e-01 7.871e-02 1.095e+00 9.053e-01 8.589e+00 1.534e+02\n",
      "  6.399e-03 4.904e-02 5.373e-02 1.587e-02 3.003e-02 6.193e-03 2.538e+01\n",
      "  1.733e+01 1.846e+02 2.019e+03 1.622e-01 6.656e-01 7.119e-01 2.654e-01\n",
      "  4.601e-01 1.189e-01]\n",
      " [2.057e+01 1.777e+01 1.329e+02 1.326e+03 8.474e-02 7.864e-02 8.690e-02\n",
      "  7.017e-02 1.812e-01 5.667e-02 5.435e-01 7.339e-01 3.398e+00 7.408e+01\n",
      "  5.225e-03 1.308e-02 1.860e-02 1.340e-02 1.389e-02 3.532e-03 2.499e+01\n",
      "  2.341e+01 1.588e+02 1.956e+03 1.238e-01 1.866e-01 2.416e-01 1.860e-01\n",
      "  2.750e-01 8.902e-02]]\n",
      "Target: [0 0]\n"
     ]
    }
   ],
   "source": [
    "dataset = datasets.load_breast_cancer()\n",
    "print('Num of samples:', len(dataset.data))\n",
    "print(\"Labels:\", dataset.target_names)\n",
    "print(\"Samples:\", dataset.data[:2, :])\n",
    "print(\"Target:\", dataset.target[:2])"
   ]
  },
  {
   "cell_type": "code",
   "execution_count": 3,
   "metadata": {},
   "outputs": [],
   "source": [
    "clf = LogisticRegression(solver='liblinear')"
   ]
  },
  {
   "cell_type": "code",
   "execution_count": 4,
   "metadata": {},
   "outputs": [],
   "source": [
    "clf = clf.fit(dataset.data, dataset.target)"
   ]
  },
  {
   "cell_type": "code",
   "execution_count": 5,
   "metadata": {},
   "outputs": [
    {
     "data": {
      "text/plain": [
       "array([[1.00000000e+00, 1.35219635e-15],\n",
       "       [9.99999983e-01, 1.66177950e-08]])"
      ]
     },
     "execution_count": 5,
     "metadata": {},
     "output_type": "execute_result"
    }
   ],
   "source": [
    "preds = clf.predict_proba(dataset.data)\n",
    "preds[:2]"
   ]
  },
  {
   "cell_type": "markdown",
   "metadata": {},
   "source": [
    "## Second part: ranking and coverage plot\n",
    "\n",
    "- Use the scores you just obtained to rank the examples (from higher to lower probability of being in class 1);\n",
    "- consider all possible classifiers you can obtain from such order by splitting the sequence in two and then deciding to label everything on the left as positive and everything on the right as negative);\n",
    "- evaluate the number of false positive examples (FP) and the number of true positive examples (TP) for each split;\n",
    "- plot those values on a scatter plot (hint: use the `matplotlib.pyplot.plot` function);\n"
   ]
  },
  {
   "cell_type": "code",
   "execution_count": 6,
   "metadata": {
    "scrolled": false
   },
   "outputs": [
    {
     "name": "stdout",
     "output_type": "stream",
     "text": [
      "[0.9999969  0.99995749 0.99995469 0.99993829]\n",
      "[2.20248085e-26 1.46833737e-28 4.71173234e-31 9.09705244e-50]\n",
      "[1 1 1 1 1 1 1 1 1 1 1 1 1 1 1 1 1 1 1 1 1 1 1 1 1 1 1 1 1 1 1 1 1 1 1 1 1\n",
      " 1 1 1 1 1 1 1 1 1 1 1 1 1 1 1 1 1 1 1 1 1 1 1 1 1 1 1 1 1 1 1 1 1 1 1 1 1\n",
      " 1 1 1 1 1 1 1 1 1 1 1 1 1 1 1 1 1 1 1 1 1 1 1 1 1 1 1 1 1 1 1 1 1 1 1 1 1\n",
      " 1 1 1 1 1 1 1 1 1 1 1 1 1 1 1 1 1 1 1 1 1 1 1 1 1 1 1 1 1 1 1 1 1 1 1 1 1\n",
      " 1 1 1 1 1 1 1 1 1 1 1 1 1 1 1 1 1 1 1 1 1 1 1 1 1 1 1 1 1 1 1 1 1 1 1 1 1\n",
      " 1 1 1 1 1 1 1 1 1 1 1 1 1 1 1 1 1 1 1 1 1 1 1 1 1 1 1 1 1 1 1 1 1 1 1 1 1\n",
      " 1 1 1 1 1 1 1 1 1 1 1 1 1 1 1 1 1 1 1 1 1 1 1 1 1 1 1 1 1 1 1 1 1 0 1 1 1\n",
      " 1 1 1 1 1 1 1 1 1 1 1 1 1 1 1 1 1 1 1 1 1 1 1 1 1 1 1 1 1 1 1 1 1 1 1 1 1\n",
      " 1 1 1 1 1 1 1 1 1 1 1 1 1 1 1 1 1 1 0 1 1 1 1 1 1 1 1 1 1 1 1 1 1 1 1 1 1\n",
      " 1 1 1 0 1 0 1 1 1 0 0 1 1 1 0 0 1 1 0 1 1 0 0 0 1 0 1 0 1 0 0 0 0 1 0 1 1\n",
      " 1 1 0 0 1 0 0 1 0 0 0 0 0 1 1 0 0 0 0 0 0 0 0 0 0 0 0 0 0 0 0 0 0 0 0 0 0\n",
      " 0 0 0 0 0 0 0 0 0 0 0 0 0 0 0 0 0 0 0 0 0 0 0 0 0 0 0 0 0 0 0 0 0 0 0 0 0\n",
      " 0 0 0 0 0 0 0 0 0 0 0 0 0 0 0 0 0 0 0 0 0 0 0 0 0 0 0 0 0 0 0 0 0 0 0 0 0\n",
      " 0 0 0 0 0 0 0 0 0 0 0 0 0 0 0 0 0 0 0 0 0 0 0 0 0 0 0 0 0 0 0 0 0 0 0 0 0\n",
      " 0 0 0 0 0 0 0 0 0 0 0 0 0 0 0 0 0 0 0 0 0 0 0 0 0 0 0 0 0 0 0 0 0 0 0 0 0\n",
      " 0 0 0 0 0 0 0 0 0 0 0 0 0 0]\n"
     ]
    }
   ],
   "source": [
    "score = preds[:, 1] #score for 'malignant' class (1)\n",
    "sorted_idx = np.argsort(score)[::-1] #lowest to highest\n",
    "\n",
    "#ranking_d = dataset.data[sorted_idx]\n",
    "score = np.sort(score)[::-1]\n",
    "ranking_l = dataset.target[sorted_idx]\n",
    "\n",
    "#print(ranking_d)\n",
    "print(score[:4])\n",
    "print(score[-4:])\n",
    "print(ranking_l)"
   ]
  },
  {
   "cell_type": "code",
   "execution_count": 7,
   "metadata": {},
   "outputs": [
    {
     "data": {
      "text/plain": [
       "array([[3.10490999e-06, 9.99996895e-01],\n",
       "       [4.25121706e-05, 9.99957488e-01]])"
      ]
     },
     "execution_count": 7,
     "metadata": {},
     "output_type": "execute_result"
    }
   ],
   "source": [
    "preds[sorted_idx][:2]"
   ]
  },
  {
   "cell_type": "code",
   "execution_count": 8,
   "metadata": {},
   "outputs": [
    {
     "data": {
      "text/plain": [
       "array([[1.00000000e+00, 4.71173234e-31],\n",
       "       [1.00000000e+00, 9.09705244e-50]])"
      ]
     },
     "execution_count": 8,
     "metadata": {},
     "output_type": "execute_result"
    }
   ],
   "source": [
    "preds[sorted_idx][-2:]"
   ]
  },
  {
   "cell_type": "code",
   "execution_count": 9,
   "metadata": {
    "scrolled": false
   },
   "outputs": [
    {
     "name": "stdout",
     "output_type": "stream",
     "text": [
      "569 possible threshold values (569 samples)\n"
     ]
    }
   ],
   "source": [
    "def get_tpfp(score):\n",
    "    fp = list()\n",
    "    tp = list()\n",
    "\n",
    "    splits = np.unique(score) #np.arange(1, len(ranking_l)+1, step=1)\n",
    "    print('{} possible threshold values ({} samples)'.format(len(splits), len(score)))\n",
    "\n",
    "    \"\"\"\n",
    "    Ranking: [1, 1, 1 | 0, 0, 0, 0, 0, 0] \n",
    "    Ground:  [1, 0, 1 | 1, 1, 1, 0, 0, 0]\n",
    "    -> tp = 2, fp = 1\n",
    "    \"\"\"\n",
    "    for split in splits:\n",
    "        tp.append((ranking_l[score >= split] == 1).sum())\n",
    "        fp.append((ranking_l[score >= split] == 0).sum())\n",
    "    \n",
    "    return tp, fp, splits\n",
    "\n",
    "tp, fp, splits = get_tpfp(score)"
   ]
  },
  {
   "cell_type": "code",
   "execution_count": 10,
   "metadata": {},
   "outputs": [
    {
     "data": {
      "image/png": "[encoded data removed]",
      "text/plain": [
       "<Figure size 864x360 with 1 Axes>"
      ]
     },
     "metadata": {},
     "output_type": "display_data"
    }
   ],
   "source": [
    "plt.figure(figsize=(12, 5))\n",
    "plt.xlabel('split')\n",
    "plt.scatter(splits, tp, s=2.5, label='TP')\n",
    "plt.scatter(splits, fp, s=2.5, label='FP')\n",
    "plt.legend()\n",
    "plt.show()"
   ]
  },
  {
   "cell_type": "markdown",
   "metadata": {},
   "source": [
    "## Third part: ranking error and the area under the coverage plot\n",
    "\n",
    "- Write a function `coverage_area` that given a set of (FP,TP) points, evaluates the area under the curve specified by those points;\n",
    "- Write the function `ranking error` that evaluates the ranking error: \n",
    "$$\n",
    "error=\\frac{\\sum_{{x^+} \\in \\mathrm{Pos} }\\sum_{{x^-} \\in \\mathrm{Neg} } I\\left[\\hat{s}(x^+) < \\hat{s}(x^-)\\right] + \\frac{1}{2} I\\left[\\hat{s}(x^+) = \\hat{s}(x^-)\\right]}{\\mathrm{|Pos|}\\times\\mathrm{|Neg|}}\n",
    "$$\n",
    "- Verify that $1$ minus the coverage area equals the ranking error."
   ]
  },
  {
   "cell_type": "code",
   "execution_count": 11,
   "metadata": {},
   "outputs": [],
   "source": [
    "def ranking_error(ranking_score, ranking_labels):\n",
    "    positives = ranking_score[ranking_labels == 1]\n",
    "    negatives = ranking_score[ranking_labels == 0]\n",
    "    \n",
    "    misplaced = 0\n",
    "    for neg_score in np.sort(negatives):\n",
    "        misplaced += (positives < neg_score).sum()\n",
    "    same_score = len(np.intersect1d(positives, negatives))\n",
    "    \n",
    "    return (misplaced+0.5*same_score) / (len(positives)*len(negatives))\n",
    "\n",
    "\n",
    "def coverage_area(tpfp, neg, pos):\n",
    "    area = 0\n",
    "    prev_tp = 0\n",
    "    \n",
    "    for tp, fp in tpfp:\n",
    "        area += (tp-prev_tp) * (neg - fp)\n",
    "        prev_tp = tp\n",
    "    \n",
    "    return area / (pos*neg) #normalize to ROC [0;1]"
   ]
  },
  {
   "cell_type": "code",
   "execution_count": 12,
   "metadata": {
    "scrolled": true
   },
   "outputs": [
    {
     "name": "stdout",
     "output_type": "stream",
     "text": [
      "[[  1   0]\n",
      " [  2   0]\n",
      " [  3   0]\n",
      " ...\n",
      " [357 210]\n",
      " [357 211]\n",
      " [357 212]]\n",
      "Pos: 357, Neg: 212, Total: 569\n"
     ]
    }
   ],
   "source": [
    "tpfp = list(zip(tp, fp))\n",
    "tpfp = np.sort(tpfp, axis=0)\n",
    "print(tpfp)\n",
    "neg, pos = (ranking_l == 0).sum(), (ranking_l == 1).sum()\n",
    "\n",
    "print(\"Pos: {}, Neg: {}, Total: {}\".format(pos, neg, pos+neg))"
   ]
  },
  {
   "cell_type": "code",
   "execution_count": 13,
   "metadata": {},
   "outputs": [
    {
     "data": {
      "image/png": "[encoded data removed]",
      "text/plain": [
       "<Figure size 1152x504 with 1 Axes>"
      ]
     },
     "metadata": {},
     "output_type": "display_data"
    }
   ],
   "source": [
    "plt.figure(figsize=(16, 7))\n",
    "plt.title('ROC plot')\n",
    "plt.plot(tpfp[:, 1] / neg, tpfp[:, 0] / pos, '-', label='LogisticRegression')\n",
    "plt.xlabel('FPR')\n",
    "plt.ylabel('TPR')\n",
    "plt.legend()\n",
    "plt.show()"
   ]
  },
  {
   "cell_type": "code",
   "execution_count": 14,
   "metadata": {},
   "outputs": [
    {
     "name": "stdout",
     "output_type": "stream",
     "text": [
      "sklearn auc score: 0.9947\n",
      "Coverage area: 0.9947\n",
      "\n",
      "sklearn ranking error: 0.0053\n",
      "Ranking error: 0.0053\n",
      "1 - coverage area: 0.0053\n"
     ]
    }
   ],
   "source": [
    "from sklearn import metrics\n",
    "\n",
    "sklearn_auc_score = metrics.roc_auc_score(ranking_l, score)\n",
    "print('sklearn auc score: {:.4f}'.format(sklearn_auc_score))\n",
    "\n",
    "area = coverage_area(tpfp, neg, pos)\n",
    "print('Coverage area: {:.4f}'.format(area))\n",
    "\n",
    "err = ranking_error(score, ranking_l)\n",
    "print(\"\\nsklearn ranking error: {:.4f}\".format(1-sklearn_auc_score))\n",
    "print('Ranking error: {:.4f}'.format(err))\n",
    "print('1 - coverage area: {:.4f}'.format(1-area))"
   ]
  },
  {
   "cell_type": "markdown",
   "metadata": {},
   "source": [
    "### Hints:\n",
    "To write the `coverage_area` function you might want to sum all the rectangles having sides $\\Delta \\mathrm{TP}$ and $\\mathrm{Neg} - \\mathrm{FP}$ (see also the picture below and notice that you should assume that the sequence of (FP,TP) points is sorted). \n",
    "\n",
    "<img src=\"./cov-area.png\">"
   ]
  }
 ],
 "metadata": {
  "kernelspec": {
   "display_name": "Python 3",
   "language": "python",
   "name": "python3"
  },
  "language_info": {
   "codemirror_mode": {
    "name": "ipython",
    "version": 3
   },
   "file_extension": ".py",
   "mimetype": "text/x-python",
   "name": "python",
   "nbconvert_exporter": "python",
   "pygments_lexer": "ipython3",
   "version": "3.6.4"
  }
 },
 "nbformat": 4,
 "nbformat_minor": 2
}
